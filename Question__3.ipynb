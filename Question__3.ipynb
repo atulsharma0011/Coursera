{
  "nbformat": 4,
  "nbformat_minor": 0,
  "metadata": {
    "colab": {
      "provenance": [],
      "authorship_tag": "ABX9TyMEXOVbTioIiWY2cF/gRwhH"
    },
    "kernelspec": {
      "name": "python3",
      "display_name": "Python 3"
    },
    "language_info": {
      "name": "python"
    }
  },
  "cells": [
    {
      "cell_type": "code",
      "execution_count": 8,
      "metadata": {
        "colab": {
          "base_uri": "https://localhost:8080/",
          "height": 667
        },
        "id": "sR6u2ZszPkWl",
        "outputId": "79d8f05a-7e97-4a58-cde8-c334ad13f8e7"
      },
      "outputs": [
        {
          "output_type": "stream",
          "name": "stdout",
          "text": [
            "Created dummy data directories and image files for a runnable example.\n",
            "Dataset loaded successfully.\n",
            "\n",
            "--- Task 3: Dataset Class Information ---\n",
            "Class to index mapping:\n",
            "{'class_a': 0, 'class_b': 1}\n",
            "\n",
            "Class names (based on folder names):\n",
            "['class_a', 'class_b']\n",
            "\n",
            "--- Task 4: Batch Information ---\n",
            "Shape of image batch: torch.Size([2, 3, 64, 64])\n",
            "Shape of label batch: torch.Size([2])\n",
            "\n",
            "--- Task 5: Displaying Images in the Batch ---\n"
          ]
        },
        {
          "output_type": "display_data",
          "data": {
            "text/plain": [
              "<Figure size 1200x400 with 2 Axes>"
            ],
            "image/png": "[encoded data removed]"
          },
          "metadata": {}
        }
      ],
      "source": [
        "import torch\n",
        "import os\n",
        "from torchvision import datasets, transforms\n",
        "import matplotlib.pyplot as plt\n",
        "import numpy as np\n",
        "from PIL import Image\n",
        "\n",
        "custom_transform = transforms.Compose([\n",
        "    transforms.Resize((64, 64)),\n",
        "    transforms.RandomHorizontalFlip(p=0.5),\n",
        "    transforms.RandomVerticalFlip(p=0.2),\n",
        "    transforms.RandomRotation(45),\n",
        "    transforms.ToTensor()\n",
        "])\n",
        "\n",
        "data_dir = './data'\n",
        "\n",
        "# Ensure the directories and dummy files exist every time the script is run\n",
        "if not os.path.exists(os.path.join(data_dir, 'class_a', 'dummy_a.png')):\n",
        "    os.makedirs(os.path.join(data_dir, 'class_a'), exist_ok=True)\n",
        "    try:\n",
        "        dummy_img_a = Image.new('RGB', (64, 64), color = 'red')\n",
        "        dummy_img_a.save(os.path.join(data_dir, 'class_a', 'dummy_a.png'))\n",
        "    except ImportError:\n",
        "        print(\"Pillow library not found. Please install it with 'pip install Pillow' to create dummy images.\")\n",
        "if not os.path.exists(os.path.join(data_dir, 'class_b', 'dummy_b.png')):\n",
        "    os.makedirs(os.path.join(data_dir, 'class_b'), exist_ok=True)\n",
        "    try:\n",
        "        dummy_img_b = Image.new('RGB', (64, 64), color = 'blue')\n",
        "        dummy_img_b.save(os.path.join(data_dir, 'class_b', 'dummy_b.png'))\n",
        "    except ImportError:\n",
        "        print(\"Pillow library not found. Please install it with 'pip install Pillow' to create dummy images.\")\n",
        "print(\"Created dummy data directories and image files for a runnable example.\")\n",
        "\n",
        "try:\n",
        "    imagefolder_dataset = datasets.ImageFolder(root=data_dir, transform=custom_transform)\n",
        "    print(\"Dataset loaded successfully.\")\n",
        "except Exception as e:\n",
        "    print(f\"Error loading dataset: {e}\")\n",
        "    print(\"Please ensure your data directory and file structure are correct.\")\n",
        "\n",
        "if 'imagefolder_dataset' in locals():\n",
        "    print(\"\\n--- Task 3: Dataset Class Information ---\")\n",
        "    print(\"Class to index mapping:\")\n",
        "    print(imagefolder_dataset.class_to_idx)\n",
        "    print(\"\\nClass names (based on folder names):\")\n",
        "    print(imagefolder_dataset.classes)\n",
        "\n",
        "if 'imagefolder_dataset' in locals():\n",
        "    imagefolder_loader = torch.utils.data.DataLoader(imagefolder_dataset, batch_size=4, shuffle=True)\n",
        "    images, labels = next(iter(imagefolder_loader))\n",
        "    print(\"\\n--- Task 4: Batch Information ---\")\n",
        "    print(f\"Shape of image batch: {images.shape}\")\n",
        "    print(f\"Shape of label batch: {labels.shape}\")\n",
        "\n",
        "    print(\"\\n--- Task 5: Displaying Images in the Batch ---\")\n",
        "\n",
        "    images = images.numpy().transpose((0, 2, 3, 1))\n",
        "\n",
        "    fig, axes = plt.subplots(1, len(images), figsize=(12, 4))\n",
        "    for i, ax in enumerate(axes):\n",
        "        ax.imshow(images[i])\n",
        "        ax.set_title(f\"Label: {imagefolder_dataset.classes[labels[i]]}\")\n",
        "        ax.axis('off')\n",
        "\n",
        "    plt.tight_layout()\n",
        "    plt.show()\n"
      ]
    }
  ]
}