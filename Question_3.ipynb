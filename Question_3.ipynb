{
  "nbformat": 4,
  "nbformat_minor": 0,
  "metadata": {
    "colab": {
      "provenance": [],
      "authorship_tag": "ABX9TyN3/yZKVkBjybnLpBraMKki"
    },
    "kernelspec": {
      "name": "python3",
      "display_name": "Python 3"
    },
    "language_info": {
      "name": "python"
    }
  },
  "cells": [
    {
      "cell_type": "code",
      "execution_count": 4,
      "metadata": {
        "colab": {
          "base_uri": "https://localhost:8080/"
        },
        "id": "sR6u2ZszPkWl",
        "outputId": "3b50bdab-26eb-47a1-a93c-e0a34485711d"
      },
      "outputs": [
        {
          "output_type": "stream",
          "name": "stdout",
          "text": [
            "Error loading dataset: Found no valid file for the classes class_a, class_b. Supported extensions are: .jpg, .jpeg, .png, .ppm, .bmp, .pgm, .tif, .tiff, .webp\n",
            "Please ensure your data directory and file structure are correct.\n"
          ]
        }
      ],
      "source": [
        "import torch\n",
        "import os\n",
        "from torchvision import datasets, transforms\n",
        "import matplotlib.pyplot as plt\n",
        "import numpy as np\n",
        "\n",
        "custom_transform = transforms.Compose([\n",
        "    transforms.Resize((64, 64)),\n",
        "    transforms.RandomHorizontalFlip(p=0.5),\n",
        "    transforms.RandomVerticalFlip(p=0.2),\n",
        "    transforms.RandomRotation(45),\n",
        "    transforms.ToTensor()\n",
        "])\n",
        "\n",
        "data_dir = './data'\n",
        "\n",
        "if not os.path.exists(data_dir):\n",
        "    os.makedirs(os.path.join(data_dir, 'class_a'))\n",
        "    os.makedirs(os.path.join(data_dir, 'class_b'))\n",
        "    print(\"Created dummy data directories for a runnable example.\")\n",
        "\n",
        "try:\n",
        "    imagefolder_dataset = datasets.ImageFolder(root=data_dir, transform=custom_transform)\n",
        "    print(\"Dataset loaded successfully.\")\n",
        "except Exception as e:\n",
        "    print(f\"Error loading dataset: {e}\")\n",
        "    print(\"Please ensure your data directory and file structure are correct.\")\n",
        "\n",
        "if 'imagefolder_dataset' in locals():\n",
        "    print(\"\\n--- Task 3: Dataset Class Information ---\")\n",
        "    print(\"Class to index mapping:\")\n",
        "    print(imagefolder_dataset.class_to_idx)\n",
        "    print(\"\\nClass names (based on folder names):\")\n",
        "    print(imagefolder_dataset.classes)\n",
        "\n",
        "if 'imagefolder_dataset' in locals():\n",
        "    imagefolder_loader = torch.utils.data.DataLoader(imagefolder_dataset, batch_size=4, shuffle=True)\n",
        "    images, labels = next(iter(imagefolder_loader))\n",
        "    print(\"\\n--- Task 4: Batch Information ---\")\n",
        "    print(f\"Shape of image batch: {images.shape}\")\n",
        "    print(f\"Shape of label batch: {labels.shape}\")\n",
        "\n",
        "    print(\"\\n--- Task 5: Displaying Images in the Batch ---\")\n",
        "\n",
        "    images = images.numpy().transpose((0, 2, 3, 1))\n",
        "\n",
        "    fig, axes = plt.subplots(1, len(images), figsize=(12, 4))\n",
        "    for i, ax in enumerate(axes):\n",
        "        ax.imshow(images[i])\n",
        "        ax.set_title(f\"Label: {imagefolder_dataset.classes[labels[i]]}\")\n",
        "        ax.axis('off')\n",
        "\n",
        "    plt.tight_layout()\n",
        "    plt.show()\n"
      ]
    }
  ]
}